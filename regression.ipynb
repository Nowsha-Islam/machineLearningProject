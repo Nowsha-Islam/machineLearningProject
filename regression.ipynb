{
 "cells": [
  {
   "cell_type": "code",
   "execution_count": 1,
   "metadata": {},
   "outputs": [
    {
     "name": "stdout",
     "output_type": "stream",
     "text": [
      "   G1  G2  G3  studytime  failures  absences\n",
      "0   5   6   6          2         0         6\n",
      "1   5   5   6          2         0         4\n",
      "2   7   8  10          2         3        10\n",
      "3  15  14  15          3         0         2\n",
      "4   6  10  10          2         0         4\n"
     ]
    }
   ],
   "source": [
    "import pandas as pd\n",
    "import numpy as np \n",
    "import sklearn\n",
    "from sklearn import linear_model\n",
    "from sklearn.utils import shuffle\n",
    "\n",
    "df = pd.read_csv(\"student-mat.csv\", sep=\";\")\n",
    "\n",
    "\n",
    "df = df[[\"G1\", \"G2\", \"G3\", \"studytime\", \"failures\", \"absences\"]]\n",
    "print(df.head())\n",
    "\n",
    "predict = \"G3\"\n",
    "\n",
    "X = np.array(df.drop([predict], 1)) # Features\n",
    "y = np.array(df[predict]) # Labels\n",
    "x_train, x_test, y_train, y_test = sklearn.model_selection.train_test_split(X, y, test_size = 0.1)"
   ]
  },
  {
   "cell_type": "code",
   "execution_count": 2,
   "metadata": {},
   "outputs": [
    {
     "name": "stdout",
     "output_type": "stream",
     "text": [
      "Acurracy: 0.8196881408311665\n",
      "Coefficient: \n",
      " [ 0.1412434   0.9853372  -0.21018554 -0.28901463  0.03427017]\n",
      "Intercept: \n",
      " -1.3544779422657207\n",
      "4.449374128056088 [6 5 1 0 7] 6\n",
      "8.363974597272561 [10  9  3  0  2] 10\n",
      "9.490956995043911 [10 10  2  0  0] 10\n",
      "15.64207529157206 [16 15  2  0 11] 15\n",
      "16.318980949240444 [16 16  2  0  2] 16\n",
      "8.497294360926919 [8 9 2 0 8] 10\n",
      "8.976903567956844 [10 10  3  2  8] 10\n",
      "9.841984142791395 [12 10  2  0  2] 11\n",
      "-0.36241499853873693 [10  0  2  0  0] 0\n",
      "15.084623524354885 [16 15  4  0  7] 17\n",
      "5.41552216103805 [7 7 2 3 5] 7\n",
      "10.471327885346373 [11 11  4  0  8] 10\n",
      "9.070585913022237 [10 10  4  0  0] 10\n",
      "8.779379370238429 [11  9  3  0 10] 10\n",
      "8.360213675731417 [8 9 2 0 4] 10\n",
      "7.604077135002031 [ 9  8  2  1 15] 8\n",
      "10.617537596977044 [11 11  2  0  0] 10\n",
      "-0.8681429908670739 [12  0  3  2  0] 0\n",
      "15.192400347307316 [15 15  2  0  2] 16\n",
      "12.793438720611475 [16 12  1  0  8] 13\n",
      "7.862984309316136 [10  8  2  0 10] 8\n",
      "11.389330129621547 [ 8 12  1  0  0] 12\n",
      "12.373871230266243 [14 12  1  0  4] 11\n",
      "11.737590375826288 [14 12  2  1  0] 12\n",
      "15.192400347307316 [15 15  2  0  2] 14\n",
      "15.6032406070556 [16 15  3  0 16] 15\n",
      "11.813060337346144 [11 12  1  0  0] 10\n",
      "15.295612657042163 [14 15  1  0  3] 16\n",
      "9.634966441557582 [ 7 10  2  1 25] 11\n",
      "11.878833778401155 [15 12  2  1  0] 12\n",
      "12.780950568473381 [13 12  1  0 20] 12\n",
      "10.61337487959768 [10 11  2  0  4] 9\n",
      "16.39168400921756 [17 16  2  0  0] 17\n",
      "9.628037680239414 [10 10  2  0  4] 10\n",
      "18.434659672072986 [19 18  3  0  0] 19\n",
      "12.37346194146515 [11 13  4  0  6] 14\n",
      "4.75803427442986 [7 6 1 2 0] 0\n",
      "9.272847815112566 [ 7 10  2  0  6] 10\n",
      "9.139528051458209 [ 9 10  3  0  0] 0\n",
      "11.771631084837335 [13 11  3  1 40] 11\n"
     ]
    }
   ],
   "source": [
    "linear = linear_model.LinearRegression()\n",
    "\n",
    "linear.fit(x_train, y_train)\n",
    "acc = linear.score(x_test, y_test)\n",
    "print(\"Acurracy:\", acc)\n",
    "\n",
    "print('Coefficient: \\n', linear.coef_)\n",
    "print('Intercept: \\n', linear.intercept_)\n",
    "\n",
    "predictions = linear.predict(x_test)\n",
    "\n",
    "for x in range(len(predictions)):\n",
    "    print(predictions[x], x_test[x], y_test[x])"
   ]
  },
  {
   "cell_type": "code",
   "execution_count": null,
   "metadata": {},
   "outputs": [],
   "source": []
  }
 ],
 "metadata": {
  "kernelspec": {
   "display_name": "Python 3",
   "language": "python",
   "name": "python3"
  },
  "language_info": {
   "codemirror_mode": {
    "name": "ipython",
    "version": 3
   },
   "file_extension": ".py",
   "mimetype": "text/x-python",
   "name": "python",
   "nbconvert_exporter": "python",
   "pygments_lexer": "ipython3",
   "version": "3.7.3"
  }
 },
 "nbformat": 4,
 "nbformat_minor": 2
}
